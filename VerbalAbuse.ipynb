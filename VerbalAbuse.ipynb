{
  "nbformat": 4,
  "nbformat_minor": 0,
  "metadata": {
    "colab": {
      "provenance": [],
      "authorship_tag": "ABX9TyNRDIQxEJsrZyRUAbVHGU8w",
      "include_colab_link": true
    },
    "kernelspec": {
      "name": "python3",
      "display_name": "Python 3"
    },
    "language_info": {
      "name": "python"
    }
  },
  "cells": [
    {
      "cell_type": "markdown",
      "metadata": {
        "id": "view-in-github",
        "colab_type": "text"
      },
      "source": [
        "<a href=\"https://colab.research.google.com/github/akso10/batch2-woman-saftey-corridor/blob/main/VerbalAbuse.ipynb\" target=\"_parent\"><img src=\"https://colab.research.google.com/assets/colab-badge.svg\" alt=\"Open In Colab\"/></a>"
      ]
    },
    {
      "cell_type": "code",
      "execution_count": 4,
      "metadata": {
        "colab": {
          "base_uri": "https://localhost:8080/"
        },
        "id": "fAnjBNfg1cuu",
        "outputId": "2a14dcad-436e-480e-ce6a-61dcf469604c"
      },
      "outputs": [
        {
          "output_type": "stream",
          "name": "stdout",
          "text": [
            "Looking in indexes: https://pypi.org/simple, https://us-python.pkg.dev/colab-wheels/public/simple/\n",
            "Requirement already satisfied: SpeechRecognition in /usr/local/lib/python3.10/dist-packages (3.10.0)\n",
            "Requirement already satisfied: requests>=2.26.0 in /usr/local/lib/python3.10/dist-packages (from SpeechRecognition) (2.27.1)\n",
            "Requirement already satisfied: urllib3<1.27,>=1.21.1 in /usr/local/lib/python3.10/dist-packages (from requests>=2.26.0->SpeechRecognition) (1.26.15)\n",
            "Requirement already satisfied: charset-normalizer~=2.0.0 in /usr/local/lib/python3.10/dist-packages (from requests>=2.26.0->SpeechRecognition) (2.0.12)\n",
            "Requirement already satisfied: certifi>=2017.4.17 in /usr/local/lib/python3.10/dist-packages (from requests>=2.26.0->SpeechRecognition) (2022.12.7)\n",
            "Requirement already satisfied: idna<4,>=2.5 in /usr/local/lib/python3.10/dist-packages (from requests>=2.26.0->SpeechRecognition) (3.4)\n",
            "Looking in indexes: https://pypi.org/simple, https://us-python.pkg.dev/colab-wheels/public/simple/\n",
            "Requirement already satisfied: pydub in /usr/local/lib/python3.10/dist-packages (0.25.1)\n",
            "No harassment detected in the audio file.\n"
          ]
        }
      ],
      "source": [
        "!pip install SpeechRecognition\n",
        "!pip install pydub\n",
        "\n",
        "import speech_recognition as sr\n",
        "from pydub import AudioSegment\n",
        "from pydub.utils import make_chunks\n",
        "import re\n",
        "\n",
        "def recognize_harassment_keywords(audio_file_path, harassment_keywords):\n",
        "    # Initialize recognizer\n",
        "    r = sr.Recognizer()\n",
        "    \n",
        "    # Load audio file\n",
        "    audio = AudioSegment.from_file(audio_file_path, format=\"wav\")\n",
        "    \n",
        "    # Set chunk length to 5 seconds\n",
        "    chunk_length_ms = 5000\n",
        "    \n",
        "    # Split audio file into chunks\n",
        "    chunks = make_chunks(audio, chunk_length_ms)\n",
        "    \n",
        "    # Loop through each chunk\n",
        "    for i, chunk in enumerate(chunks):\n",
        "        # Save chunk to a temporary file\n",
        "        chunk_file_path = f\"chunk_{i}.wav\"\n",
        "        chunk.export(chunk_file_path, format=\"wav\")\n",
        "        \n",
        "        # Recognize speech from the chunk\n",
        "        with sr.AudioFile(chunk_file_path) as source:\n",
        "            audio_data = r.record(source)\n",
        "        \n",
        "        # Convert speech to text\n",
        "        try:\n",
        "            text = r.recognize_google(audio_data)\n",
        "        except sr.UnknownValueError:\n",
        "            text = \"\"\n",
        "        \n",
        "        # Check if the text contains harassment keywords\n",
        "        for keyword in harassment_keywords:\n",
        "            if re.search(r\"\\b{}\\b\".format(keyword.lower()), text.lower()):\n",
        "                return True\n",
        "        \n",
        "    return False\n",
        "\n",
        "\n",
        "# Example usage:\n",
        "\n",
        "audio_file_path = \"/non dirty speech.wav\"\n",
        "harassment_keywords = [\"bitch\", \"ass\", \"slut\",\"hot\"]\n",
        "\n",
        "if recognize_harassment_keywords(audio_file_path, harassment_keywords):\n",
        "    print(\"Harassment detected in the audio file.\")\n",
        "else:\n",
        "    print(\"No harassment detected in the audio file.\")\n"
      ]
    }
  ]
}